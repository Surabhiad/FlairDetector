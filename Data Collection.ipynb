{
 "cells": [
  {
   "cell_type": "markdown",
   "metadata": {},
   "source": [
    "# Reddit Data Collection"
   ]
  },
  {
   "cell_type": "markdown",
   "metadata": {},
   "source": [
    "### Importing Libraries"
   ]
  },
  {
   "cell_type": "code",
   "execution_count": 1,
   "metadata": {},
   "outputs": [],
   "source": [
    "import praw\n",
    "import pandas as pd"
   ]
  },
  {
   "cell_type": "markdown",
   "metadata": {},
   "source": [
    "### Setting Up Client"
   ]
  },
  {
   "cell_type": "code",
   "execution_count": 2,
   "metadata": {},
   "outputs": [],
   "source": [
    "def create_reddit_object():\n",
    "    reddit = praw.Reddit(client_id = \"vhTFsgLma-HE7g\",\n",
    "                        client_secret = \"2-i0pIROAbxMjvykuQNUQBnHxzI\",\n",
    "                        user_agent = \"TestingAPI\",\n",
    "                        username = \"coffeereddits\",\n",
    "                        password = \"lstmrnn@12!\")\n",
    "    return reddit\n"
   ]
  },
  {
   "cell_type": "markdown",
   "metadata": {},
   "source": [
    "### Create Reddit Object"
   ]
  },
  {
   "cell_type": "code",
   "execution_count": 3,
   "metadata": {},
   "outputs": [],
   "source": [
    "reddit = create_reddit_object()"
   ]
  },
  {
   "cell_type": "markdown",
   "metadata": {},
   "source": [
    "### Choosing the needed r/india"
   ]
  },
  {
   "cell_type": "code",
   "execution_count": 4,
   "metadata": {},
   "outputs": [],
   "source": [
    "subreddit = reddit.subreddit(\"india\")"
   ]
  },
  {
   "cell_type": "markdown",
   "metadata": {},
   "source": [
    "### Code for scraping"
   ]
  },
  {
   "cell_type": "code",
   "execution_count": 5,
   "metadata": {},
   "outputs": [
    {
     "name": "stdout",
     "output_type": "stream",
     "text": [
      "                                                  title  \\\n",
      "0     Lost my Job, Sick Mother and Paralysed Dad, In...   \n",
      "1     Why does the government come with a begging bo...   \n",
      "2     People stuck with their family during the lock...   \n",
      "3     How prominent is the caste system in India now...   \n",
      "4     Men who are 30+ and have decided not to get ma...   \n",
      "...                                                 ...   \n",
      "1798  Deepak Punia named 'Junior Freestyle Wrestler ...   \n",
      "1799  Fist Fight At Delhi Cricket Body Meet, Gautam ...   \n",
      "1800  Dutee Chand, first openly gay athlete on the c...   \n",
      "1801  A Tale of an old man, fiery writer, his mega a...   \n",
      "1802                   [R] Updated Wiki, Rules & Flairs   \n",
      "\n",
      "                                                   body      id  \\\n",
      "0     Hi....It's really tough time for everyone. I r...  g014wc   \n",
      "1     We have floods, terrorist attacks, famines due...  fxofyu   \n",
      "2     I don't think we've spend so much time with fa...  g4lrhm   \n",
      "3     Does caste still exist in India? Do people sti...  g6tldd   \n",
      "4     The corona virus has given me some time to thi...  fvy95j   \n",
      "...                                                 ...     ...   \n",
      "1798                                                     ec90p4   \n",
      "1799                                                     eh7xml   \n",
      "1800                                                     cb3rxf   \n",
      "1801  As asked by /u/crozyguy. Not a referenced, cit...  2ywjv0   \n",
      "1802  #Comment Moderation in Political & Religious T...  3huilc   \n",
      "\n",
      "                                                    url     flair  \n",
      "0     https://www.reddit.com/r/india/comments/g014wc...  AskIndia  \n",
      "1     https://www.reddit.com/r/india/comments/fxofyu...  AskIndia  \n",
      "2     https://www.reddit.com/r/india/comments/g4lrhm...  AskIndia  \n",
      "3     https://www.reddit.com/r/india/comments/g6tldd...  AskIndia  \n",
      "4     https://www.reddit.com/r/india/comments/fvy95j...  AskIndia  \n",
      "...                                                 ...       ...  \n",
      "1798  https://www.firstpost.com/sports/deepak-punia-...    Sports  \n",
      "1799  https://twitter.com/GautamGambhir/status/12112...    Sports  \n",
      "1800                https://i.redd.it/4o6xrc0j9b931.jpg    Sports  \n",
      "1801  https://www.reddit.com/r/india/comments/2ywjv0...      Food  \n",
      "1802  https://www.reddit.com/r/india/comments/3huilc...      Food  \n",
      "\n",
      "[1803 rows x 5 columns]\n"
     ]
    }
   ],
   "source": [
    "posts = []\n",
    "#List of all the flairs. These will be the keys in classification.\n",
    "flairs = [ \"AskIndia\", \"Non-Political\", \"[R]eddiquette\",\n",
    "          \"Scheduled\", \"Photography\", \"Science/Technology\",\n",
    "          \"Politics\", \"Business/Finance\", \"Policy/Economy\",\n",
    "          \"Sports\", \"Food\", \"AMA\"]\n",
    "\n",
    "\n",
    "for flair in flairs:\n",
    "\n",
    "#The posts' data is collected by searching by the flair name in the list. Top 200 posts are recorded and stored for analysis.\n",
    "\n",
    "    relevant_subreddits = subreddit.search(f\"flair_name:{flair}\",limit=200)\n",
    "\n",
    "    for post in relevant_subreddits:\n",
    "        posts.append([post.title, post.selftext,  post.id,  post.url, str(flair)])\n",
    "posts = pd.DataFrame(posts,columns=['title', 'body',  'id',  'url',  'flair'])\n",
    "print(posts)"
   ]
  },
  {
   "cell_type": "markdown",
   "metadata": {},
   "source": [
    "### Writing to CSV"
   ]
  },
  {
   "cell_type": "code",
   "execution_count": 8,
   "metadata": {},
   "outputs": [],
   "source": [
    "posts.to_csv('data.csv',index=False)"
   ]
  },
  {
   "cell_type": "code",
   "execution_count": 85,
   "metadata": {},
   "outputs": [
    {
     "data": {
      "text/plain": [
       "Submission(id='ec90p4')"
      ]
     },
     "execution_count": 85,
     "metadata": {},
     "output_type": "execute_result"
    }
   ],
   "source": [
    "post"
   ]
  }
 ],
 "metadata": {
  "kernelspec": {
   "display_name": "Python 3",
   "language": "python",
   "name": "python3"
  },
  "language_info": {
   "codemirror_mode": {
    "name": "ipython",
    "version": 3
   },
   "file_extension": ".py",
   "mimetype": "text/x-python",
   "name": "python",
   "nbconvert_exporter": "python",
   "pygments_lexer": "ipython3",
   "version": "3.7.4"
  }
 },
 "nbformat": 4,
 "nbformat_minor": 2
}
