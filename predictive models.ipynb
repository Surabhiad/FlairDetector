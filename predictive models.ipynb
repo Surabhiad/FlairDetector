{
 "cells": [
  {
   "cell_type": "markdown",
   "metadata": {},
   "source": [
    "# Flair Detection"
   ]
  },
  {
   "cell_type": "markdown",
   "metadata": {},
   "source": [
    "### Importing Dependencies\n"
   ]
  },
  {
   "cell_type": "code",
   "execution_count": 1,
   "metadata": {},
   "outputs": [],
   "source": [
    "from sklearn.model_selection import cross_val_score\n",
    "from sklearn.model_selection import cross_val_predict\n",
    "from sklearn.metrics import confusion_matrix, accuracy_score, recall_score, roc_curve, roc_auc_score, auc\n",
    "from sklearn.metrics import classification_report\n",
    "from sklearn.pipeline import Pipeline\n",
    "from sklearn.feature_extraction.text import TfidfVectorizer\n",
    "from sklearn.naive_bayes import MultinomialNB\n",
    "from sklearn.svm import SVC"
   ]
  },
  {
   "cell_type": "code",
   "execution_count": 3,
   "metadata": {},
   "outputs": [],
   "source": [
    "import pandas as pd"
   ]
  },
  {
   "cell_type": "code",
   "execution_count": 4,
   "metadata": {},
   "outputs": [],
   "source": [
    "posts=pd.read_csv('data.csv')"
   ]
  },
  {
   "cell_type": "markdown",
   "metadata": {},
   "source": [
    "### Classification using SVM"
   ]
  },
  {
   "cell_type": "code",
   "execution_count": 7,
   "metadata": {},
   "outputs": [
    {
     "name": "stderr",
     "output_type": "stream",
     "text": [
      "/home/surendra/Desktop/Anaconda/ENTER/lib/python3.7/site-packages/sklearn/model_selection/_split.py:657: Warning: The least populated class in y has only 1 members, which is too few. The minimum number of members in any class cannot be less than n_splits=10.\n",
      "  % (min_groups, self.n_splits)), Warning)\n"
     ]
    },
    {
     "name": "stdout",
     "output_type": "stream",
     "text": [
      "0.5064301229770842\n"
     ]
    },
    {
     "name": "stderr",
     "output_type": "stream",
     "text": [
      "/home/surendra/Desktop/Anaconda/ENTER/lib/python3.7/site-packages/sklearn/model_selection/_split.py:657: Warning: The least populated class in y has only 1 members, which is too few. The minimum number of members in any class cannot be less than n_splits=10.\n",
      "  % (min_groups, self.n_splits)), Warning)\n"
     ]
    },
    {
     "name": "stdout",
     "output_type": "stream",
     "text": [
      "[[ 56   0   0  64   0  18   2   0  57   3   0]\n",
      " [  9  48   0  40   1  51   1   0  48   2   0]\n",
      " [  0   0   0   2   0   0   0   0   0   0   0]\n",
      " [  9   0   0 115   3  20  10   0  40   3   0]\n",
      " [  1   0   0  70  92   6   2   0  23   6   0]\n",
      " [  6  13   0  30   0 103  11   0  34   3   0]\n",
      " [  5   1   0  61   0  31  67   0  33   2   0]\n",
      " [  0   0   0   4   0   0   0 196   0   0   0]\n",
      " [ 15   2   0  40   1  11   1   0 123   7   0]\n",
      " [  8   0   0  40   0  17   1   0  21 113   0]\n",
      " [  0   0   0   0   0   0   0   0   1   0   0]]\n",
      "                    precision    recall  f1-score   support\n",
      "\n",
      "          AskIndia       0.51      0.28      0.36       200\n",
      "  Business/Finance       0.75      0.24      0.36       200\n",
      "              Food       0.00      0.00      0.00         2\n",
      "     Non-Political       0.25      0.57      0.35       200\n",
      "       Photography       0.95      0.46      0.62       200\n",
      "    Policy/Economy       0.40      0.52      0.45       200\n",
      "          Politics       0.71      0.34      0.45       200\n",
      "         Scheduled       1.00      0.98      0.99       200\n",
      "Science/Technology       0.32      0.61      0.42       200\n",
      "            Sports       0.81      0.56      0.67       200\n",
      "     [R]eddiquette       0.00      0.00      0.00         1\n",
      "\n",
      "          accuracy                           0.51      1803\n",
      "         macro avg       0.52      0.41      0.43      1803\n",
      "      weighted avg       0.63      0.51      0.52      1803\n",
      "\n"
     ]
    },
    {
     "name": "stderr",
     "output_type": "stream",
     "text": [
      "/home/surendra/Desktop/Anaconda/ENTER/lib/python3.7/site-packages/sklearn/metrics/classification.py:1437: UndefinedMetricWarning: Precision and F-score are ill-defined and being set to 0.0 in labels with no predicted samples.\n",
      "  'precision', 'predicted', average, warn_for)\n"
     ]
    }
   ],
   "source": [
    "text_clf = Pipeline([('vect', TfidfVectorizer()), \n",
    "                      ('clf', SVC(gamma='auto')) ])\n",
    "\n",
    "\n",
    "score=cross_val_score(text_clf,posts['title'],posts['flair'],scoring='accuracy',cv=10)\n",
    "print(score.mean())\n",
    "y_predict = cross_val_predict(text_clf, posts['title'],posts['flair'], cv=10)\n",
    "print(confusion_matrix(posts['flair'],y_predict))\n",
    "print(classification_report(posts['flair'],y_predict))"
   ]
  },
  {
   "cell_type": "markdown",
   "metadata": {},
   "source": [
    "### Classification Using Naive Bayes"
   ]
  },
  {
   "cell_type": "code",
   "execution_count": 8,
   "metadata": {},
   "outputs": [
    {
     "name": "stderr",
     "output_type": "stream",
     "text": [
      "/home/surendra/Desktop/Anaconda/ENTER/lib/python3.7/site-packages/sklearn/model_selection/_split.py:657: Warning: The least populated class in y has only 1 members, which is too few. The minimum number of members in any class cannot be less than n_splits=10.\n",
      "  % (min_groups, self.n_splits)), Warning)\n"
     ]
    },
    {
     "name": "stdout",
     "output_type": "stream",
     "text": [
      "0.6000866506115126\n"
     ]
    },
    {
     "name": "stderr",
     "output_type": "stream",
     "text": [
      "/home/surendra/Desktop/Anaconda/ENTER/lib/python3.7/site-packages/sklearn/model_selection/_split.py:657: Warning: The least populated class in y has only 1 members, which is too few. The minimum number of members in any class cannot be less than n_splits=10.\n",
      "  % (min_groups, self.n_splits)), Warning)\n"
     ]
    },
    {
     "name": "stdout",
     "output_type": "stream",
     "text": [
      "[[156   9   0   7   0   7   5   0  12   4   0]\n",
      " [ 36  92   0   2   4  43   7   0  13   3   0]\n",
      " [  0   0   0   2   0   0   0   0   0   0   0]\n",
      " [ 56   5   0  52  16  15  28   2  19   7   0]\n",
      " [ 13   2   0  14 151   0   5   5   6   4   0]\n",
      " [ 23  38   0   6   2  97  20   1  11   2   0]\n",
      " [ 24   5   0  14   3  21 118   1  11   3   0]\n",
      " [  1   0   0   0   1   0   0 198   0   0   0]\n",
      " [ 52  14   0   8   8  20   8   1  78  11   0]\n",
      " [ 24   3   0   7   6   7  10   0   3 140   0]\n",
      " [  1   0   0   0   0   0   0   0   0   0   0]]\n",
      "                    precision    recall  f1-score   support\n",
      "\n",
      "          AskIndia       0.40      0.78      0.53       200\n",
      "  Business/Finance       0.55      0.46      0.50       200\n",
      "              Food       0.00      0.00      0.00         2\n",
      "     Non-Political       0.46      0.26      0.33       200\n",
      "       Photography       0.79      0.76      0.77       200\n",
      "    Policy/Economy       0.46      0.48      0.47       200\n",
      "          Politics       0.59      0.59      0.59       200\n",
      "         Scheduled       0.95      0.99      0.97       200\n",
      "Science/Technology       0.51      0.39      0.44       200\n",
      "            Sports       0.80      0.70      0.75       200\n",
      "     [R]eddiquette       0.00      0.00      0.00         1\n",
      "\n",
      "          accuracy                           0.60      1803\n",
      "         macro avg       0.50      0.49      0.49      1803\n",
      "      weighted avg       0.61      0.60      0.59      1803\n",
      "\n"
     ]
    },
    {
     "name": "stderr",
     "output_type": "stream",
     "text": [
      "/home/surendra/Desktop/Anaconda/ENTER/lib/python3.7/site-packages/sklearn/metrics/classification.py:1437: UndefinedMetricWarning: Precision and F-score are ill-defined and being set to 0.0 in labels with no predicted samples.\n",
      "  'precision', 'predicted', average, warn_for)\n"
     ]
    }
   ],
   "source": [
    "text_clf = Pipeline([('vect', TfidfVectorizer()), \n",
    "                      ('clf', MultinomialNB()) ])\n",
    "\n",
    "\n",
    "score=cross_val_score(text_clf,posts['title'],posts['flair'],scoring='accuracy',cv=10)\n",
    "print(score.mean())\n",
    "y_predict = cross_val_predict(text_clf, posts['title'],posts['flair'], cv=10)\n",
    "print(confusion_matrix(posts['flair'],y_predict))\n",
    "print(classification_report(posts['flair'],y_predict))"
   ]
  },
  {
   "cell_type": "code",
   "execution_count": null,
   "metadata": {},
   "outputs": [],
   "source": []
  }
 ],
 "metadata": {
  "kernelspec": {
   "display_name": "Python 3",
   "language": "python",
   "name": "python3"
  },
  "language_info": {
   "codemirror_mode": {
    "name": "ipython",
    "version": 3
   },
   "file_extension": ".py",
   "mimetype": "text/x-python",
   "name": "python",
   "nbconvert_exporter": "python",
   "pygments_lexer": "ipython3",
   "version": "3.7.4"
  }
 },
 "nbformat": 4,
 "nbformat_minor": 2
}
